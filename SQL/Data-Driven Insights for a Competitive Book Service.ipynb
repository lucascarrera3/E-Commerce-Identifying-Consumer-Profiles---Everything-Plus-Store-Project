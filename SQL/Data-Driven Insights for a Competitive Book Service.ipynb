{
 "cells": [
  {
   "cell_type": "markdown",
   "metadata": {},
   "source": [
    "# Data-Driven Insights for a Competitive Book Service"
   ]
  },
  {
   "cell_type": "markdown",
   "metadata": {},
   "source": [
    "# Content <a id='back'></a>\n",
    "\n",
    "* [1) Project Objective](#projectgoal)\n",
    "* [2) Data Preparation](#data_preprocessing)\n",
    "* [3) Testing Hypotheses](#testinghypotheses)\n",
    "* [4) General Conclusions](#end)"
   ]
  },
  {
   "cell_type": "markdown",
   "metadata": {},
   "source": [
    "## Project Objetive "
   ]
  },
  {
   "cell_type": "markdown",
   "metadata": {},
   "source": [
    "The goal of this project is to analyze data from a book service's database, which includes information on books, authors, publishers, user ratings, and reviews. By conducting SQL queries on this dataset, the objective is to derive insights that can help a new product in the competitive book market. The analysis aims to identify trends such as the number of books released after the year 2000, publishers with the highest number of substantial releases, authors with the highest average ratings, and user engagement patterns. These insights will guide strategic decisions for developing a new book-related service."
   ]
  },
  {
   "cell_type": "code",
   "execution_count": 10,
   "metadata": {},
   "outputs": [
    {
     "name": "stdout",
     "output_type": "stream",
     "text": [
      "Collecting psycopg2-binary\n",
      "  Downloading psycopg2_binary-2.9.9-cp310-cp310-manylinux_2_17_x86_64.manylinux2014_x86_64.whl (3.0 MB)\n",
      "\u001b[2K     \u001b[90m━━━━━━━━━━━━━━━━━━━━━━━━━━━━━━━━━━━━━━━━\u001b[0m \u001b[32m3.0/3.0 MB\u001b[0m \u001b[31m54.7 MB/s\u001b[0m eta \u001b[36m0:00:00\u001b[0m:00:01\u001b[0m\n",
      "\u001b[?25hInstalling collected packages: psycopg2-binary\n",
      "Successfully installed psycopg2-binary-2.9.9\n"
     ]
    }
   ],
   "source": [
    "!pip install psycopg2-binary"
   ]
  },
  {
   "cell_type": "code",
   "execution_count": null,
   "metadata": {},
   "outputs": [],
   "source": [
    "import pandas as pd\n",
    "from sqlalchemy import create_engine\n",
    "\n",
    "# Definir as configurações de conexão\n",
    "db_config = {\n",
    "    'user': 'practicum_student',   # Nome de usuário fornecido\n",
    "    'pwd': 's65BlTKV3faNIGhmvJVzOqhs',  # Senha fornecida\n",
    "    'host': 'rc1b-wcoijxj3yxfsf3fs.mdb.yandexcloud.net',  # Endereço do servidor\n",
    "    'port': 6432,                  # Porta de conexão\n",
    "    'db': 'data-analyst-final-project-db'  # Nome do banco de dados\n",
    "}\n",
    "\n",
    "# Criar a string de conexão\n",
    "connection_string = 'postgresql://{}:{}@{}:{}/{}'.format(\n",
    "    db_config['user'], \n",
    "    db_config['pwd'], \n",
    "    db_config['host'], \n",
    "    db_config['port'], \n",
    "    db_config['db']\n",
    ")\n",
    "\n",
    "# Criar o motor de conexão\n",
    "engine = create_engine(connection_string, connect_args={'sslmode':'require'})\n",
    "\n",
    "# Testar a conexão com uma consulta simples\n",
    "query = \"SELECT * FROM books LIMIT 5;\"\n",
    "df = pd.read_sql(query, con=engine)\n",
    "print(df)"
   ]
  }
 ],
 "metadata": {
  "ExecuteTimeLog": [
   {
    "duration": 387,
    "start_time": "2024-09-22T13:31:38.147Z"
   },
   {
    "duration": 182,
    "start_time": "2024-09-22T13:32:16.196Z"
   },
   {
    "duration": 3125,
    "start_time": "2024-09-22T13:37:34.843Z"
   },
   {
    "duration": 6,
    "start_time": "2024-09-22T13:47:31.388Z"
   },
   {
    "duration": 4,
    "start_time": "2024-09-22T13:47:53.748Z"
   },
   {
    "duration": 4,
    "start_time": "2024-09-22T13:49:05.754Z"
   },
   {
    "duration": 4,
    "start_time": "2024-09-22T13:53:01.055Z"
   },
   {
    "duration": 6,
    "start_time": "2024-09-22T13:57:18.861Z"
   },
   {
    "duration": 1240,
    "start_time": "2024-09-22T14:20:26.289Z"
   },
   {
    "duration": 1578,
    "start_time": "2024-09-22T14:22:02.809Z"
   }
  ],
  "kernelspec": {
   "display_name": "Python 3 (ipykernel)",
   "language": "python",
   "name": "python3"
  },
  "language_info": {
   "codemirror_mode": {
    "name": "ipython",
    "version": 3
   },
   "file_extension": ".py",
   "mimetype": "text/x-python",
   "name": "python",
   "nbconvert_exporter": "python",
   "pygments_lexer": "ipython3",
   "version": "3.9.19"
  },
  "toc": {
   "base_numbering": 1,
   "nav_menu": {},
   "number_sections": true,
   "sideBar": true,
   "skip_h1_title": true,
   "title_cell": "Table of Contents",
   "title_sidebar": "Contents",
   "toc_cell": false,
   "toc_position": {},
   "toc_section_display": true,
   "toc_window_display": false
  }
 },
 "nbformat": 4,
 "nbformat_minor": 2
}
