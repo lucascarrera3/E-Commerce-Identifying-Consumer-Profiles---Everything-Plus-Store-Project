{
 "cells": [
  {
   "cell_type": "markdown",
   "metadata": {},
   "source": [
    "# A/B Test Analysis (Online Store)"
   ]
  },
  {
   "cell_type": "markdown",
   "metadata": {},
   "source": [
    "# Content <a id='back'></a>\n",
    "\n",
    "* [1) Project Objective](#projectgoal)\n",
    "* [2) Data Analysis Preprocessing](#data_preprocessing)\n",
    "* [3) Exploratory Data Analysis](#predictmodel)\n",
    "* [4) Evaluate the A/B test results](#evaluate)\n",
    "* [5) Conclusion on the EDA stage](#endeda)\n",
    "* [6) Conclusions from the A/B Test Evaluation](#endabtest)\n",
    "* [7) Conclusion and Recommendations](#endandrecommendations)"
   ]
  },
  {
   "cell_type": "markdown",
   "metadata": {},
   "source": [
    "## Project Objective "
   ]
  },
  {
   "cell_type": "markdown",
   "metadata": {},
   "source": [
    "The primary objective of this research is to evaluate the effectiveness of a new recommendation system implemented by an international online store. This system was tested through an A/B test, where the goal is to determine if the new payment funnel (Group B) yields a higher conversion rate compared to the old system (Group A – control). The focus is on analyzing the behavior of new users from the EU region who participated in the test between December 7, 2020, and January 1, 2021."
   ]
  },
  {
   "cell_type": "markdown",
   "metadata": {},
   "source": [
    "**The specific research goals include:**\n",
    "\n",
    "* **Verify the proper execution of the A/B test:**\n",
    "\n",
    "Ensure that the test was conducted correctly, with the appropriate user allocation between Group A (control) and Group B (new system), and that the data collected covers the expected period and sample size (15% of new users from the EU, with approximately 6,000 participants).\n",
    "\n",
    "* **Analyze user behavior through the conversion funnel stages:**\n",
    "\n",
    "Measure conversion rates across three key stages of the sales funnel:\n",
    "* Product page views (product_page).\n",
    "* Product card views (product_card).\n",
    "* Completed purchases (purchase).\n",
    "\n",
    "* **Compare performance between Group A and Group B:**\n",
    "\n",
    "Assess whether the new recommendation system (Group B) leads to at least a 10% improvement in conversion rates at each stage of the sales funnel compared to Group A (control).\n",
    "\n",
    "* **Perform hypothesis testing:**\n",
    "\n",
    "Conduct statistical tests to validate whether the observed differences in conversion rates between Group A and Group B are statistically significant.\n",
    "\n",
    "* **Evaluate the impact of marketing events:**\n",
    "\n",
    "Examine whether promotional events coinciding with the test period influenced the results, by observing participant interaction with marketing campaigns during the test.\n",
    "The goal of this study is to provide clear insights into the impact of the new recommendation system and inform decisions on whether it should be implemented on a larger scale."
   ]
  },
  {
   "cell_type": "markdown",
   "metadata": {},
   "source": [
    "## Data Analysis Preprocessing"
   ]
  },
  {
   "cell_type": "code",
   "execution_count": 1,
   "metadata": {},
   "outputs": [],
   "source": [
    "import pandas as pd \n",
    "import numpy as np\n",
    "import seaborn as sns\n",
    "from matplotlib import pyplot as plt"
   ]
  },
  {
   "cell_type": "code",
   "execution_count": 2,
   "metadata": {},
   "outputs": [],
   "source": [
    "# Load the datasets\n",
    "marketing_events = pd.read_csv('/datasets/ab_project_marketing_events_us.csv')\n",
    "ab_events = pd.read_csv('/datasets/final_ab_events_upd_us.csv')\n",
    "new_users = pd.read_csv('/datasets/final_ab_new_users_upd_us.csv')\n",
    "participants = pd.read_csv('/datasets/final_ab_participants_upd_us.csv')\n"
   ]
  },
  {
   "cell_type": "code",
   "execution_count": 3,
   "metadata": {},
   "outputs": [
    {
     "name": "stdout",
     "output_type": "stream",
     "text": [
      "<class 'pandas.core.frame.DataFrame'>\n",
      "RangeIndex: 14 entries, 0 to 13\n",
      "Data columns (total 4 columns):\n",
      " #   Column     Non-Null Count  Dtype         \n",
      "---  ------     --------------  -----         \n",
      " 0   name       14 non-null     object        \n",
      " 1   regions    14 non-null     object        \n",
      " 2   start_dt   14 non-null     datetime64[ns]\n",
      " 3   finish_dt  14 non-null     datetime64[ns]\n",
      "dtypes: datetime64[ns](2), object(2)\n",
      "memory usage: 576.0+ bytes\n"
     ]
    },
    {
     "data": {
      "text/html": [
       "<div>\n",
       "<style scoped>\n",
       "    .dataframe tbody tr th:only-of-type {\n",
       "        vertical-align: middle;\n",
       "    }\n",
       "\n",
       "    .dataframe tbody tr th {\n",
       "        vertical-align: top;\n",
       "    }\n",
       "\n",
       "    .dataframe thead th {\n",
       "        text-align: right;\n",
       "    }\n",
       "</style>\n",
       "<table border=\"1\" class=\"dataframe\">\n",
       "  <thead>\n",
       "    <tr style=\"text-align: right;\">\n",
       "      <th></th>\n",
       "      <th>name</th>\n",
       "      <th>regions</th>\n",
       "      <th>start_dt</th>\n",
       "      <th>finish_dt</th>\n",
       "    </tr>\n",
       "  </thead>\n",
       "  <tbody>\n",
       "    <tr>\n",
       "      <th>0</th>\n",
       "      <td>Christmas&amp;New Year Promo</td>\n",
       "      <td>EU, N.America</td>\n",
       "      <td>2020-12-25</td>\n",
       "      <td>2021-01-03</td>\n",
       "    </tr>\n",
       "    <tr>\n",
       "      <th>1</th>\n",
       "      <td>St. Valentine's Day Giveaway</td>\n",
       "      <td>EU, CIS, APAC, N.America</td>\n",
       "      <td>2020-02-14</td>\n",
       "      <td>2020-02-16</td>\n",
       "    </tr>\n",
       "    <tr>\n",
       "      <th>2</th>\n",
       "      <td>St. Patric's Day Promo</td>\n",
       "      <td>EU, N.America</td>\n",
       "      <td>2020-03-17</td>\n",
       "      <td>2020-03-19</td>\n",
       "    </tr>\n",
       "    <tr>\n",
       "      <th>3</th>\n",
       "      <td>Easter Promo</td>\n",
       "      <td>EU, CIS, APAC, N.America</td>\n",
       "      <td>2020-04-12</td>\n",
       "      <td>2020-04-19</td>\n",
       "    </tr>\n",
       "    <tr>\n",
       "      <th>4</th>\n",
       "      <td>4th of July Promo</td>\n",
       "      <td>N.America</td>\n",
       "      <td>2020-07-04</td>\n",
       "      <td>2020-07-11</td>\n",
       "    </tr>\n",
       "  </tbody>\n",
       "</table>\n",
       "</div>"
      ],
      "text/plain": [
       "                           name                   regions   start_dt  \\\n",
       "0      Christmas&New Year Promo             EU, N.America 2020-12-25   \n",
       "1  St. Valentine's Day Giveaway  EU, CIS, APAC, N.America 2020-02-14   \n",
       "2        St. Patric's Day Promo             EU, N.America 2020-03-17   \n",
       "3                  Easter Promo  EU, CIS, APAC, N.America 2020-04-12   \n",
       "4             4th of July Promo                 N.America 2020-07-04   \n",
       "\n",
       "   finish_dt  \n",
       "0 2021-01-03  \n",
       "1 2020-02-16  \n",
       "2 2020-03-19  \n",
       "3 2020-04-19  \n",
       "4 2020-07-11  "
      ]
     },
     "execution_count": 3,
     "metadata": {},
     "output_type": "execute_result"
    }
   ],
   "source": [
    "# Convert 'start_dt' and 'finish_dt' in 'marketing_events' dataset\n",
    "marketing_events['start_dt'] = pd.to_datetime(marketing_events['start_dt'])\n",
    "marketing_events['finish_dt'] = pd.to_datetime(marketing_events['finish_dt'])\n",
    "\n",
    "marketing_events.info() # Checking the data types\n",
    "\n",
    "marketing_events.head()"
   ]
  },
  {
   "cell_type": "code",
   "execution_count": 4,
   "metadata": {},
   "outputs": [
    {
     "name": "stdout",
     "output_type": "stream",
     "text": [
      "<class 'pandas.core.frame.DataFrame'>\n",
      "RangeIndex: 423761 entries, 0 to 423760\n",
      "Data columns (total 4 columns):\n",
      " #   Column      Non-Null Count   Dtype         \n",
      "---  ------      --------------   -----         \n",
      " 0   user_id     423761 non-null  object        \n",
      " 1   event_dt    423761 non-null  datetime64[ns]\n",
      " 2   event_name  423761 non-null  object        \n",
      " 3   details     60314 non-null   float64       \n",
      "dtypes: datetime64[ns](1), float64(1), object(2)\n",
      "memory usage: 12.9+ MB\n"
     ]
    },
    {
     "data": {
      "text/html": [
       "<div>\n",
       "<style scoped>\n",
       "    .dataframe tbody tr th:only-of-type {\n",
       "        vertical-align: middle;\n",
       "    }\n",
       "\n",
       "    .dataframe tbody tr th {\n",
       "        vertical-align: top;\n",
       "    }\n",
       "\n",
       "    .dataframe thead th {\n",
       "        text-align: right;\n",
       "    }\n",
       "</style>\n",
       "<table border=\"1\" class=\"dataframe\">\n",
       "  <thead>\n",
       "    <tr style=\"text-align: right;\">\n",
       "      <th></th>\n",
       "      <th>user_id</th>\n",
       "      <th>event_dt</th>\n",
       "      <th>event_name</th>\n",
       "      <th>details</th>\n",
       "    </tr>\n",
       "  </thead>\n",
       "  <tbody>\n",
       "    <tr>\n",
       "      <th>0</th>\n",
       "      <td>E1BDDCE0DAFA2679</td>\n",
       "      <td>2020-12-07 20:22:03</td>\n",
       "      <td>purchase</td>\n",
       "      <td>99.99</td>\n",
       "    </tr>\n",
       "    <tr>\n",
       "      <th>1</th>\n",
       "      <td>7B6452F081F49504</td>\n",
       "      <td>2020-12-07 09:22:53</td>\n",
       "      <td>purchase</td>\n",
       "      <td>9.99</td>\n",
       "    </tr>\n",
       "    <tr>\n",
       "      <th>2</th>\n",
       "      <td>9CD9F34546DF254C</td>\n",
       "      <td>2020-12-07 12:59:29</td>\n",
       "      <td>purchase</td>\n",
       "      <td>4.99</td>\n",
       "    </tr>\n",
       "    <tr>\n",
       "      <th>3</th>\n",
       "      <td>96F27A054B191457</td>\n",
       "      <td>2020-12-07 04:02:40</td>\n",
       "      <td>purchase</td>\n",
       "      <td>4.99</td>\n",
       "    </tr>\n",
       "    <tr>\n",
       "      <th>4</th>\n",
       "      <td>1FD7660FDF94CA1F</td>\n",
       "      <td>2020-12-07 10:15:09</td>\n",
       "      <td>purchase</td>\n",
       "      <td>4.99</td>\n",
       "    </tr>\n",
       "  </tbody>\n",
       "</table>\n",
       "</div>"
      ],
      "text/plain": [
       "            user_id            event_dt event_name  details\n",
       "0  E1BDDCE0DAFA2679 2020-12-07 20:22:03   purchase    99.99\n",
       "1  7B6452F081F49504 2020-12-07 09:22:53   purchase     9.99\n",
       "2  9CD9F34546DF254C 2020-12-07 12:59:29   purchase     4.99\n",
       "3  96F27A054B191457 2020-12-07 04:02:40   purchase     4.99\n",
       "4  1FD7660FDF94CA1F 2020-12-07 10:15:09   purchase     4.99"
      ]
     },
     "execution_count": 4,
     "metadata": {},
     "output_type": "execute_result"
    }
   ],
   "source": [
    "# Convert 'event_dt' in 'ab_events' dataset\n",
    "ab_events['event_dt'] = pd.to_datetime(ab_events['event_dt'])\n",
    "\n",
    "ab_events.info()\n",
    "\n",
    "ab_events.head()"
   ]
  },
  {
   "cell_type": "code",
   "execution_count": 5,
   "metadata": {},
   "outputs": [
    {
     "name": "stdout",
     "output_type": "stream",
     "text": [
      "<class 'pandas.core.frame.DataFrame'>\n",
      "RangeIndex: 58703 entries, 0 to 58702\n",
      "Data columns (total 4 columns):\n",
      " #   Column      Non-Null Count  Dtype         \n",
      "---  ------      --------------  -----         \n",
      " 0   user_id     58703 non-null  object        \n",
      " 1   first_date  58703 non-null  datetime64[ns]\n",
      " 2   region      58703 non-null  object        \n",
      " 3   device      58703 non-null  object        \n",
      "dtypes: datetime64[ns](1), object(3)\n",
      "memory usage: 1.8+ MB\n"
     ]
    },
    {
     "data": {
      "text/html": [
       "<div>\n",
       "<style scoped>\n",
       "    .dataframe tbody tr th:only-of-type {\n",
       "        vertical-align: middle;\n",
       "    }\n",
       "\n",
       "    .dataframe tbody tr th {\n",
       "        vertical-align: top;\n",
       "    }\n",
       "\n",
       "    .dataframe thead th {\n",
       "        text-align: right;\n",
       "    }\n",
       "</style>\n",
       "<table border=\"1\" class=\"dataframe\">\n",
       "  <thead>\n",
       "    <tr style=\"text-align: right;\">\n",
       "      <th></th>\n",
       "      <th>user_id</th>\n",
       "      <th>first_date</th>\n",
       "      <th>region</th>\n",
       "      <th>device</th>\n",
       "    </tr>\n",
       "  </thead>\n",
       "  <tbody>\n",
       "    <tr>\n",
       "      <th>0</th>\n",
       "      <td>D72A72121175D8BE</td>\n",
       "      <td>2020-12-07</td>\n",
       "      <td>EU</td>\n",
       "      <td>PC</td>\n",
       "    </tr>\n",
       "    <tr>\n",
       "      <th>1</th>\n",
       "      <td>F1C668619DFE6E65</td>\n",
       "      <td>2020-12-07</td>\n",
       "      <td>N.America</td>\n",
       "      <td>Android</td>\n",
       "    </tr>\n",
       "    <tr>\n",
       "      <th>2</th>\n",
       "      <td>2E1BF1D4C37EA01F</td>\n",
       "      <td>2020-12-07</td>\n",
       "      <td>EU</td>\n",
       "      <td>PC</td>\n",
       "    </tr>\n",
       "    <tr>\n",
       "      <th>3</th>\n",
       "      <td>50734A22C0C63768</td>\n",
       "      <td>2020-12-07</td>\n",
       "      <td>EU</td>\n",
       "      <td>iPhone</td>\n",
       "    </tr>\n",
       "    <tr>\n",
       "      <th>4</th>\n",
       "      <td>E1BDDCE0DAFA2679</td>\n",
       "      <td>2020-12-07</td>\n",
       "      <td>N.America</td>\n",
       "      <td>iPhone</td>\n",
       "    </tr>\n",
       "  </tbody>\n",
       "</table>\n",
       "</div>"
      ],
      "text/plain": [
       "            user_id first_date     region   device\n",
       "0  D72A72121175D8BE 2020-12-07         EU       PC\n",
       "1  F1C668619DFE6E65 2020-12-07  N.America  Android\n",
       "2  2E1BF1D4C37EA01F 2020-12-07         EU       PC\n",
       "3  50734A22C0C63768 2020-12-07         EU   iPhone\n",
       "4  E1BDDCE0DAFA2679 2020-12-07  N.America   iPhone"
      ]
     },
     "execution_count": 5,
     "metadata": {},
     "output_type": "execute_result"
    }
   ],
   "source": [
    "# Convert 'first_date' in 'new_users' dataset\n",
    "new_users['first_date'] = pd.to_datetime(new_users['first_date'])\n",
    "\n",
    "new_users.info()\n",
    "\n",
    "new_users.head()"
   ]
  },
  {
   "cell_type": "code",
   "execution_count": 6,
   "metadata": {},
   "outputs": [
    {
     "name": "stdout",
     "output_type": "stream",
     "text": [
      "<class 'pandas.core.frame.DataFrame'>\n",
      "RangeIndex: 14525 entries, 0 to 14524\n",
      "Data columns (total 3 columns):\n",
      " #   Column   Non-Null Count  Dtype \n",
      "---  ------   --------------  ----- \n",
      " 0   user_id  14525 non-null  object\n",
      " 1   group    14525 non-null  object\n",
      " 2   ab_test  14525 non-null  object\n",
      "dtypes: object(3)\n",
      "memory usage: 340.6+ KB\n"
     ]
    },
    {
     "data": {
      "text/html": [
       "<div>\n",
       "<style scoped>\n",
       "    .dataframe tbody tr th:only-of-type {\n",
       "        vertical-align: middle;\n",
       "    }\n",
       "\n",
       "    .dataframe tbody tr th {\n",
       "        vertical-align: top;\n",
       "    }\n",
       "\n",
       "    .dataframe thead th {\n",
       "        text-align: right;\n",
       "    }\n",
       "</style>\n",
       "<table border=\"1\" class=\"dataframe\">\n",
       "  <thead>\n",
       "    <tr style=\"text-align: right;\">\n",
       "      <th></th>\n",
       "      <th>user_id</th>\n",
       "      <th>group</th>\n",
       "      <th>ab_test</th>\n",
       "    </tr>\n",
       "  </thead>\n",
       "  <tbody>\n",
       "    <tr>\n",
       "      <th>0</th>\n",
       "      <td>D1ABA3E2887B6A73</td>\n",
       "      <td>A</td>\n",
       "      <td>recommender_system_test</td>\n",
       "    </tr>\n",
       "    <tr>\n",
       "      <th>1</th>\n",
       "      <td>A7A3664BD6242119</td>\n",
       "      <td>A</td>\n",
       "      <td>recommender_system_test</td>\n",
       "    </tr>\n",
       "    <tr>\n",
       "      <th>2</th>\n",
       "      <td>DABC14FDDFADD29E</td>\n",
       "      <td>A</td>\n",
       "      <td>recommender_system_test</td>\n",
       "    </tr>\n",
       "    <tr>\n",
       "      <th>3</th>\n",
       "      <td>04988C5DF189632E</td>\n",
       "      <td>A</td>\n",
       "      <td>recommender_system_test</td>\n",
       "    </tr>\n",
       "    <tr>\n",
       "      <th>4</th>\n",
       "      <td>4FF2998A348C484F</td>\n",
       "      <td>A</td>\n",
       "      <td>recommender_system_test</td>\n",
       "    </tr>\n",
       "  </tbody>\n",
       "</table>\n",
       "</div>"
      ],
      "text/plain": [
       "            user_id group                  ab_test\n",
       "0  D1ABA3E2887B6A73     A  recommender_system_test\n",
       "1  A7A3664BD6242119     A  recommender_system_test\n",
       "2  DABC14FDDFADD29E     A  recommender_system_test\n",
       "3  04988C5DF189632E     A  recommender_system_test\n",
       "4  4FF2998A348C484F     A  recommender_system_test"
      ]
     },
     "execution_count": 6,
     "metadata": {},
     "output_type": "execute_result"
    }
   ],
   "source": [
    "participants.info()\n",
    "\n",
    "participants.head()"
   ]
  },
  {
   "cell_type": "code",
   "execution_count": 7,
   "metadata": {},
   "outputs": [
    {
     "name": "stdout",
     "output_type": "stream",
     "text": [
      "name         0\n",
      "regions      0\n",
      "start_dt     0\n",
      "finish_dt    0\n",
      "dtype: int64\n",
      "0\n",
      "user_id            0\n",
      "event_dt           0\n",
      "event_name         0\n",
      "details       363447\n",
      "dtype: int64\n",
      "0\n",
      "user_id       0\n",
      "first_date    0\n",
      "region        0\n",
      "device        0\n",
      "dtype: int64\n",
      "0\n",
      "user_id    0\n",
      "group      0\n",
      "ab_test    0\n",
      "dtype: int64\n",
      "0\n"
     ]
    }
   ],
   "source": [
    "# Checking the missing values in the 'marketing_events' dataset\n",
    "marketing_events_missing = marketing_events.isnull().sum()\n",
    "marketing_events_duplicates = marketing_events.duplicated().sum()\n",
    "print(marketing_events_missing)\n",
    "print(marketing_events_duplicates)\n",
    "\n",
    "# Checking the missing values in the 'ab_events' dataset\n",
    "ab_events_missing = ab_events.isnull().sum()\n",
    "ab_events_duplicates = ab_events.duplicated().sum()\n",
    "print(ab_events_missing)\n",
    "print(ab_events_duplicates)\n",
    "\n",
    "# Checking the missing values in the 'new_users' dataset\n",
    "new_users_missing = new_users.isnull().sum()\n",
    "new_users_duplicates = new_users.duplicated().sum()\n",
    "print(new_users_missing)\n",
    "print(new_users_duplicates)\n",
    "\n",
    "# Checking the missing values in the 'participants' dataset\n",
    "participants_missing = participants.isnull().sum()\n",
    "participants_duplicates = participants.duplicated().sum()\n",
    "print(participants_missing)\n",
    "print(participants_duplicates)"
   ]
  },
  {
   "cell_type": "markdown",
   "metadata": {},
   "source": [
    "No missing were found in the 'marketing_events', 'new_users', 'participants' datasets.\n",
    "\n",
    "The details column has a significant number of missing values (363,447 out of 423,761 rows). These might correspond to events that do not involve monetary transactions.\n",
    "\n",
    "No duplicate values were found in all datasets."
   ]
  },
  {
   "cell_type": "code",
   "execution_count": 8,
   "metadata": {},
   "outputs": [
    {
     "data": {
      "text/plain": [
       "group  ab_test                \n",
       "A      interface_eu_test          5467\n",
       "       recommender_system_test    2747\n",
       "B      interface_eu_test          5383\n",
       "       recommender_system_test     928\n",
       "Name: user_id, dtype: int64"
      ]
     },
     "execution_count": 8,
     "metadata": {},
     "output_type": "execute_result"
    }
   ],
   "source": [
    "participants.groupby(['group', 'ab_test'])['user_id'].count()"
   ]
  },
  {
   "cell_type": "markdown",
   "metadata": {},
   "source": [
    "It seems that the the recommender_system_test has significantly fewer participants in Group B compared to Group A (928 vs. 2,747). "
   ]
  },
  {
   "cell_type": "code",
   "execution_count": 9,
   "metadata": {},
   "outputs": [
    {
     "name": "stdout",
     "output_type": "stream",
     "text": [
      "login           182465\n",
      "product_page    120862\n",
      "product_cart     60120\n",
      "Name: event_name, dtype: int64\n"
     ]
    }
   ],
   "source": [
    "# Investigating the missing values in the 'details' column of 'ab_events'\n",
    "ab_events_missing_details = ab_events[ab_events['details'].isnull()]['event_name'].value_counts()\n",
    "\n",
    "print(ab_events_missing_details)"
   ]
  },
  {
   "cell_type": "markdown",
   "metadata": {},
   "source": [
    "These events don't naturally have associated details (e.g., no purchase amount is needed for a login or viewing a product page)."
   ]
  },
  {
   "cell_type": "markdown",
   "metadata": {},
   "source": [
    "**General Conclusion:**\n",
    "\n",
    "The distribution of participants in the A/B test is notably uneven between the control group (A) and the experimental group (B). Group A has nearly three times more participants (2,747 vs. 928) in the recommender system test. Additionally, the total number of participants in the test (3,675) is significantly lower than the expected 6,000, which could potentially affect the reliability and statistical power of the test.\n",
    "\n",
    "This discrepancy in participant numbers may introduce bias and affect the ability to detect meaningful differences between the two groups. Let's move foward. "
   ]
  },
  {
   "cell_type": "markdown",
   "metadata": {},
   "source": [
    "## Exploratory Data Analysis"
   ]
  },
  {
   "cell_type": "markdown",
   "metadata": {},
   "source": [
    "Let's proceed with an exploratory data analysis (EDA) focused on studying the conversion rates at different stages of the funnel. Specifically, we'll examine the stages:\n",
    "\n",
    "* Product Page Views (product_page)\n",
    "* Product Cart Views (product_cart)\n",
    "* Purchases (purchase)\n",
    "\n",
    "We'll calculate conversion rates for both Group A (control) and Group B (new system) at each stage of the funnel and compare the performance of the two groups."
   ]
  },
  {
   "cell_type": "code",
   "execution_count": 10,
   "metadata": {},
   "outputs": [],
   "source": [
    "# Merging the events data with the participants data to know which users belong to group A or B\n",
    "merged_data = pd.merge(ab_events, participants, on='user_id')"
   ]
  },
  {
   "cell_type": "code",
   "execution_count": 11,
   "metadata": {},
   "outputs": [],
   "source": [
    "# Filtering events by funnel stages\n",
    "product_page_events = merged_data[merged_data['event_name'] == 'product_page']\n",
    "product_cart_events = merged_data[merged_data['event_name'] == 'product_cart']\n",
    "purchase_events = merged_data[merged_data['event_name'] == 'purchase']"
   ]
  },
  {
   "cell_type": "code",
   "execution_count": 12,
   "metadata": {},
   "outputs": [],
   "source": [
    "# Calculating the total number of unique users in each group\n",
    "total_users_a = participants[participants['group'] == 'A']['user_id'].nunique()\n",
    "total_users_b = participants[participants['group'] == 'B']['user_id'].nunique()"
   ]
  },
  {
   "cell_type": "code",
   "execution_count": 13,
   "metadata": {},
   "outputs": [],
   "source": [
    "# Calculating the number of unique users who viewed product pages, viewed product carts, and made purchases for each group\n",
    "page_view_users_a = product_page_events[product_page_events['group'] == 'A']['user_id'].nunique()\n",
    "page_view_users_b = product_page_events[product_page_events['group'] == 'B']['user_id'].nunique()\n",
    "\n",
    "cart_view_users_a = product_cart_events[product_cart_events['group'] == 'A']['user_id'].nunique()\n",
    "cart_view_users_b = product_cart_events[product_cart_events['group'] == 'B']['user_id'].nunique()\n",
    "\n",
    "purchase_users_a = purchase_events[purchase_events['group'] == 'A']['user_id'].nunique()\n",
    "purchase_users_b = purchase_events[purchase_events['group'] == 'B']['user_id'].nunique()"
   ]
  },
  {
   "cell_type": "code",
   "execution_count": 14,
   "metadata": {},
   "outputs": [],
   "source": [
    "# Calculating the conversion rates at each stage for both groups\n",
    "conversion_rate_page_a = page_view_users_a / total_users_a * 100\n",
    "conversion_rate_page_b = page_view_users_b / total_users_b * 100\n",
    "\n",
    "conversion_rate_cart_a = cart_view_users_a / total_users_a * 100\n",
    "conversion_rate_cart_b = cart_view_users_b / total_users_b * 100\n",
    "\n",
    "conversion_rate_purchase_a = purchase_users_a / total_users_a * 100\n",
    "conversion_rate_purchase_b = purchase_users_b / total_users_b * 100"
   ]
  },
  {
   "cell_type": "code",
   "execution_count": 15,
   "metadata": {},
   "outputs": [
    {
     "data": {
      "text/plain": [
       "{'Group A (Control)': {'Product Page Conversion Rate': 66.14173228346458,\n",
       "  'Product Cart Conversion Rate': 31.534163068326137,\n",
       "  'Purchase Conversion Rate': 34.06146812293625},\n",
       " 'Group B (New System)': {'Product Page Conversion Rate': 64.23851732473811,\n",
       "  'Product Cart Conversion Rate': 32.82836422240129,\n",
       "  'Purchase Conversion Rate': 32.36099919419823}}"
      ]
     },
     "execution_count": 15,
     "metadata": {},
     "output_type": "execute_result"
    }
   ],
   "source": [
    "# Displaying the results for conversion rates at each stage\n",
    "{\n",
    "    'Group A (Control)': {\n",
    "        'Product Page Conversion Rate': conversion_rate_page_a,\n",
    "        'Product Cart Conversion Rate': conversion_rate_cart_a,\n",
    "        'Purchase Conversion Rate': conversion_rate_purchase_a\n",
    "    },\n",
    "    'Group B (New System)': {\n",
    "        'Product Page Conversion Rate': conversion_rate_page_b,\n",
    "        'Product Cart Conversion Rate': conversion_rate_cart_b,\n",
    "        'Purchase Conversion Rate': conversion_rate_purchase_b\n",
    "    }\n",
    "}"
   ]
  },
  {
   "cell_type": "markdown",
   "metadata": {},
   "source": [
    "The conversion rates at different stages of the funnel for both Group A (Control) and Group B (New System):\n",
    "\n",
    "**Group A (Control):**\n",
    "\n",
    "Product Page Conversion Rate: 66.14%\n",
    "\n",
    "Product Cart Conversion Rate: 31.53%\n",
    "\n",
    "Purchase Conversion Rate: 34.06%\n",
    "\n",
    "\n",
    "**Group B (New System):**\n",
    "\n",
    "Product Page Conversion Rate: 64.24%\n",
    "\n",
    "Product Cart Conversion Rate: 32.83%\n",
    "\n",
    "Purchase Conversion Rate: 32.36%\n"
   ]
  },
  {
   "cell_type": "markdown",
   "metadata": {},
   "source": [
    "Group A has a slightly higher conversion rate for product page views and purchases.\n",
    "\n",
    "Group B shows a slightly better performance in the product cart conversion stage but underperforms in the final purchase stage compared to Group A."
   ]
  },
  {
   "cell_type": "markdown",
   "metadata": {},
   "source": [
    "To determine if the number of events per user is distributed equally between the groups (A and B), we can analyze the distribution of events per user for each group and compare their distributions. This will help us understand whether the users in each group are engaging with the system in a similar way in terms of the number of events they trigger.\n",
    "\n",
    "Let me calculate and compare the distribution of events per user for each group."
   ]
  },
  {
   "cell_type": "code",
   "execution_count": 16,
   "metadata": {},
   "outputs": [
    {
     "data": {
      "text/plain": [
       "(count    7874.000000\n",
       " mean        7.455550\n",
       " std         4.475159\n",
       " min         1.000000\n",
       " 25%         4.000000\n",
       " 50%         6.000000\n",
       " 75%         9.000000\n",
       " max        40.000000\n",
       " Name: event_name, dtype: float64,\n",
       " count    6205.000000\n",
       " mean        7.112490\n",
       " std         4.246201\n",
       " min         1.000000\n",
       " 25%         4.000000\n",
       " 50%         6.000000\n",
       " 75%         9.000000\n",
       " max        36.000000\n",
       " Name: event_name, dtype: float64)"
      ]
     },
     "execution_count": 16,
     "metadata": {},
     "output_type": "execute_result"
    }
   ],
   "source": [
    "# Grouping by user_id and group to count the number of events per user\n",
    "events_per_user = merged_data.groupby(['user_id', 'group'])['event_name'].count().reset_index()\n",
    "\n",
    "# Separating the data for group A and group B\n",
    "events_per_user_a = events_per_user[events_per_user['group'] == 'A']['event_name']\n",
    "events_per_user_b = events_per_user[events_per_user['group'] == 'B']['event_name']\n",
    "\n",
    "# Descriptive statistics for events per user in each group\n",
    "events_per_user_a.describe(), events_per_user_b.describe()"
   ]
  },
  {
   "cell_type": "markdown",
   "metadata": {},
   "source": [
    "The descriptive statistics for the number of events per user in each group:\n",
    "\n",
    "* **Group A (Control):**\n",
    "\n",
    "Mean: 7.46 events per user\n",
    "\n",
    "Standard Deviation: 4.48\n",
    "\n",
    "Minimum: 1 event\n",
    "\n",
    "25th Percentile: 4 events\n",
    "\n",
    "Median (50th Percentile): 6 events\n",
    "\n",
    "75th Percentile: 9 events\n",
    "\n",
    "Maximum: 40 events\n",
    "\n",
    "\n",
    "* **Group B (New System):**\n",
    "\n",
    "Mean: 7.11 events per user\n",
    "\n",
    "Standard Deviation: 4.25\n",
    "\n",
    "Minimum: 1 event\n",
    "\n",
    "25th Percentile: 4 events\n",
    "\n",
    "Median (50th Percentile): 6 events\n",
    "\n",
    "75th Percentile: 9 events\n",
    "\n",
    "Maximum: 36 events"
   ]
  },
  {
   "cell_type": "markdown",
   "metadata": {},
   "source": [
    "Both groups have similar distributions in terms of events per user. The average number of events per user is slightly higher in Group A, but the distributions are generally close in terms of central tendency and spread.\n",
    "\n",
    "The range of events is slightly wider in Group A (1 to 40 events) compared to Group B (1 to 36 events)."
   ]
  },
  {
   "cell_type": "markdown",
   "metadata": {},
   "source": [
    "Now, we need  to check if any users are present in both groups (A and B). This should not happen in a well-conducted A/B test, as it could bias the results. Let's check for overlapping users between the groups and analyze the distribution of events per day to see if there are any notable trends or fluctuations during the testing period. This will help identify any spikes or dips in user activity that could affect the test results."
   ]
  },
  {
   "cell_type": "code",
   "execution_count": 17,
   "metadata": {},
   "outputs": [
    {
     "name": "stdout",
     "output_type": "stream",
     "text": [
      "441\n",
      "\n",
      "event_day\n",
      "2020-12-07    2777\n",
      "2020-12-08    2904\n",
      "2020-12-09    3079\n",
      "2020-12-10    3164\n",
      "2020-12-11    3145\n",
      "2020-12-12    4040\n",
      "2020-12-13    4478\n",
      "2020-12-14    6138\n",
      "2020-12-15    5649\n",
      "2020-12-16    5470\n",
      "2020-12-17    5663\n",
      "2020-12-18    5803\n",
      "2020-12-19    6170\n",
      "2020-12-20    6676\n",
      "2020-12-21    8511\n",
      "2020-12-22    6858\n",
      "2020-12-23    6108\n",
      "2020-12-24    4732\n",
      "2020-12-26    3366\n",
      "2020-12-27    3087\n",
      "2020-12-28    2719\n",
      "2020-12-29    2281\n",
      "2020-12-30      20\n",
      "Name: event_name, dtype: int64\n"
     ]
    }
   ],
   "source": [
    "# Checking for overlapping users between Group A and Group B\n",
    "users_in_both_groups = participants.groupby('user_id')['group'].nunique()\n",
    "overlapping_users = users_in_both_groups[users_in_both_groups > 1].count()\n",
    "\n",
    "print(overlapping_users)\n",
    "print()\n",
    "\n",
    "# Analyzing the distribution of events per day\n",
    "# Adding a new column 'event_day' to capture the date (ignoring time) of the event\n",
    "merged_data['event_day'] = merged_data['event_dt'].dt.date\n",
    "\n",
    "# Counting the number of events per day\n",
    "events_per_day = merged_data.groupby('event_day')['event_name'].count()\n",
    "\n",
    "print(events_per_day)"
   ]
  },
  {
   "cell_type": "markdown",
   "metadata": {},
   "source": [
    "There are 441 users who appear in both Group A and Group B, which should not happen in a properly conducted A/B test. These users may affect the validity of the test as they are exposed to both versions."
   ]
  },
  {
   "cell_type": "markdown",
   "metadata": {},
   "source": [
    "There is a gradual increase in user activity from December 7 to December 21, with a peak of 8,511 events on December 21, which is the last day new users were accepted.\n",
    "After December 21, there is a decline in events, and activity drops sharply after December 28.\n",
    "A significant drop is observed around December 24 (Christmas Eve), followed by a low activity period around December 30.\n",
    "These patterns suggest that external factors, such as holidays, might have influenced user behavior during the test."
   ]
  },
  {
   "cell_type": "code",
   "execution_count": 18,
   "metadata": {},
   "outputs": [
    {
     "data": {
      "image/png": "[encoded data removed]",
      "text/plain": [
       "<Figure size 1000x600 with 1 Axes>"
      ]
     },
     "metadata": {},
     "output_type": "display_data"
    }
   ],
   "source": [
    "# Extract the hour from the 'event_dt' to analyze sessions per hour\n",
    "merged_data['event_hour'] = merged_data['event_dt'].dt.hour\n",
    "\n",
    "# Count the number of sessions (events) per hour\n",
    "sessions_per_hour = merged_data.groupby('event_hour')['user_id'].count()\n",
    "\n",
    "# Calculate the percentage of sessions per hour\n",
    "sessions_percentage = (sessions_per_hour / sessions_per_hour.sum()) * 100\n",
    "\n",
    "# Plotting the number of sessions per hour with percentage labels\n",
    "plt.figure(figsize=(10, 6))\n",
    "plt.bar(sessions_per_hour.index, sessions_per_hour, color='skyblue')\n",
    "plt.title('Number of Sessions by Hour of the Day', fontsize=14)\n",
    "plt.xlabel('Hour of the Day', fontsize=10)\n",
    "plt.ylabel('Number of Sessions', fontsize=10)\n",
    "\n",
    "# Adding percentage labels inside the bars\n",
    "for i, value in enumerate(sessions_percentage):\n",
    "    plt.text(i, sessions_per_hour[i] - 500, f'{value:.2f}%', ha='center', va='bottom', color='black', fontsize=6)\n",
    "\n",
    "plt.xticks(sessions_per_hour.index)\n",
    "plt.tight_layout()\n",
    "\n",
    "# Display the plot\n",
    "plt.show()"
   ]
  },
  {
   "cell_type": "code",
   "execution_count": 19,
   "metadata": {},
   "outputs": [
    {
     "data": {
      "image/png": "[encoded data removed]",
      "text/plain": [
       "<Figure size 1000x600 with 1 Axes>"
      ]
     },
     "metadata": {},
     "output_type": "display_data"
    }
   ],
   "source": [
    "# Count the number of events per day\n",
    "events_per_day = merged_data.groupby('event_day')['user_id'].nunique()\n",
    "\n",
    "# Calculate the percentage of users per day relative to the total number of users\n",
    "total_users = merged_data['user_id'].nunique()\n",
    "events_per_day_percentage = (events_per_day / total_users) * 100\n",
    "\n",
    "# Plotting the number of sessions per day with percentages\n",
    "plt.figure(figsize=(10, 6))\n",
    "plt.bar(events_per_day.index, events_per_day, color='skyblue', label='Number of Sessions')\n",
    "plt.ylabel('Number of Sessions')\n",
    "plt.xlabel('Date')\n",
    "plt.title('Daily Number of Sessions')\n",
    "\n",
    "# Adding the percentage of users to the plot\n",
    "for i, value in enumerate(events_per_day):\n",
    "    plt.text(events_per_day.index[i], value + 100, f'{events_per_day_percentage[i]:.2f}%', ha='center', fontsize=7)\n",
    "\n",
    "plt.xticks(rotation=45)\n",
    "plt.tight_layout()\n",
    "plt.show()"
   ]
  },
  {
   "cell_type": "markdown",
   "metadata": {},
   "source": [
    "The two visualizations provide insights into the user session distribution. The first graph, \"Number of Sessions by Hour of the Day\", shows a relatively even distribution of sessions throughout the 24 hours, with each hour accounting for around 4-4.5% of total sessions. There are small peaks around 18:00 and 19:00, where user activity is highest at 4.49%.\n",
    "\n",
    "The second graph, \"Daily Number of Sessions\", highlights a significant rise in user activity between December 13 and December 21, peaking on December 21 with 25.12% of the total sessions. Following December 21, there is a notable decline, likely influenced by the holiday season, with session activity dropping steadily from December 22 onwards. Both graphs indicate key time periods and days where user activity is concentrated, useful for identifying high engagement times and potential external influences (such as holidays) on user behavior."
   ]
  },
  {
   "cell_type": "code",
   "execution_count": 20,
   "metadata": {},
   "outputs": [
    {
     "data": {
      "image/png": "[encoded data removed]",
      "text/plain": [
       "<Figure size 1000x600 with 1 Axes>"
      ]
     },
     "metadata": {},
     "output_type": "display_data"
    }
   ],
   "source": [
    "# Conversion rates for both groups (A and B) at each funnel stage\n",
    "conversion_rates_a = [conversion_rate_page_a, conversion_rate_cart_a, conversion_rate_purchase_a]\n",
    "conversion_rates_b = [conversion_rate_page_b, conversion_rate_cart_b, conversion_rate_purchase_b]\n",
    "\n",
    "# Funnel stages\n",
    "stages = ['Product Page Views', 'Product Cart Views', 'Purchases']\n",
    "\n",
    "# Plotting the comparison of conversion rates for Group A and Group B\n",
    "plt.figure(figsize=(10, 6))\n",
    "x = range(len(stages))\n",
    "\n",
    "# Bars for Group A (Control)\n",
    "plt.bar(x, conversion_rates_a, width=0.4, label='Group A (Control)', align='center', color='lightblue')\n",
    "\n",
    "# Bars for Group B (New System)\n",
    "plt.bar([p + 0.4 for p in x], conversion_rates_b, width=0.4, label='Group B (New System)', align='center', color='lightgreen')\n",
    "\n",
    "# Labels and title\n",
    "plt.xlabel('Funnel Stages')\n",
    "plt.ylabel('Conversion Rate (%)')\n",
    "plt.title('Conversion Rate by Funnel Stage: Group A vs Group B')\n",
    "plt.xticks([p + 0.2 for p in x], stages)\n",
    "\n",
    "# Adding values on top of the bars for clarity\n",
    "for i, (a_rate, b_rate) in enumerate(zip(conversion_rates_a, conversion_rates_b)):\n",
    "    plt.text(i, a_rate + 0.5, f'{a_rate:.2f}%', ha='center')\n",
    "    plt.text(i + 0.4, b_rate + 0.5, f'{b_rate:.2f}%', ha='center')\n",
    "\n",
    "# Display legend and layout\n",
    "plt.legend()\n",
    "plt.tight_layout()\n",
    "plt.show()"
   ]
  },
  {
   "cell_type": "markdown",
   "metadata": {},
   "source": [
    "The graph compares the conversion rates between Group A (Control) and Group B (New System) across three stages of the funnel: Product Page Views, Product Cart Views, and Purchases. Group A has a slightly higher conversion rate for Product Page Views (66.14%) compared to Group B (64.24%). In the Product Cart Views stage, Group B performs marginally better with a conversion rate of 32.83%, while Group A is at 31.53%. For Purchases, Group A once again leads with a conversion rate of 34.06%, compared to 32.36% for Group B. Overall, while Group B demonstrates improvement in the cart stage, Group A outperforms in the key stages of Product Page Views and Purchases. This suggests that the new system does not significantly outperform the control system across the entire funnel."
   ]
  },
  {
   "cell_type": "code",
   "execution_count": 21,
   "metadata": {},
   "outputs": [
    {
     "data": {
      "text/html": [
       "<div>\n",
       "<style scoped>\n",
       "    .dataframe tbody tr th:only-of-type {\n",
       "        vertical-align: middle;\n",
       "    }\n",
       "\n",
       "    .dataframe tbody tr th {\n",
       "        vertical-align: top;\n",
       "    }\n",
       "\n",
       "    .dataframe thead th {\n",
       "        text-align: right;\n",
       "    }\n",
       "</style>\n",
       "<table border=\"1\" class=\"dataframe\">\n",
       "  <thead>\n",
       "    <tr style=\"text-align: right;\">\n",
       "      <th></th>\n",
       "      <th>Condition</th>\n",
       "      <th>Observed Quantity</th>\n",
       "      <th>Result</th>\n",
       "    </tr>\n",
       "  </thead>\n",
       "  <tbody>\n",
       "    <tr>\n",
       "      <th>0</th>\n",
       "      <td>client_entry_before</td>\n",
       "      <td>2020-12-07</td>\n",
       "      <td>Respected</td>\n",
       "    </tr>\n",
       "    <tr>\n",
       "      <th>1</th>\n",
       "      <td>client_entry_after</td>\n",
       "      <td>5263</td>\n",
       "      <td>Not Respected</td>\n",
       "    </tr>\n",
       "    <tr>\n",
       "      <th>2</th>\n",
       "      <td>entry_after_end_date</td>\n",
       "      <td>2021-01-01</td>\n",
       "      <td>Respected</td>\n",
       "    </tr>\n",
       "    <tr>\n",
       "      <th>3</th>\n",
       "      <td>participants</td>\n",
       "      <td>13638</td>\n",
       "      <td>Respected</td>\n",
       "    </tr>\n",
       "    <tr>\n",
       "      <th>4</th>\n",
       "      <td>EU_users</td>\n",
       "      <td>98.80%</td>\n",
       "      <td>Not Respected</td>\n",
       "    </tr>\n",
       "  </tbody>\n",
       "</table>\n",
       "</div>"
      ],
      "text/plain": [
       "              Condition Observed Quantity         Result\n",
       "0   client_entry_before        2020-12-07      Respected\n",
       "1    client_entry_after              5263  Not Respected\n",
       "2  entry_after_end_date        2021-01-01      Respected\n",
       "3          participants             13638      Respected\n",
       "4              EU_users            98.80%  Not Respected"
      ]
     },
     "metadata": {},
     "output_type": "display_data"
    }
   ],
   "source": [
    "from IPython.display import display\n",
    "\n",
    "# Merging relevant datasets to analyze test assumptions\n",
    "merged_data = pd.merge(new_users, participants, on='user_id')\n",
    "merged_data = pd.merge(merged_data, ab_events, on='user_id')\n",
    "\n",
    "# Proportion of users from the EU in the A/B test\n",
    "eu_proportion = merged_data[merged_data['region'] == 'EU']['region'].size / merged_data['region'].size * 100\n",
    "\n",
    "# Checking group distribution (A and B)\n",
    "group_a_size = participants[participants['group'] == 'A'].size\n",
    "group_b_size = participants[participants['group'] == 'B'].size\n",
    "total_participants = participants['user_id'].size\n",
    "group_balance = (group_a_size / total_participants) * 100, (group_b_size / total_participants) * 100\n",
    "\n",
    "# Checking for overlapping users\n",
    "overlapping_users_count = participants.groupby('user_id')['group'].nunique().loc[lambda x: x > 1].size\n",
    "\n",
    "# Checking sample size (expected 6000 users)\n",
    "actual_sample_size = participants['user_id'].nunique()\n",
    "\n",
    "# Verifying if the test period was respected (between Dec 7 and Jan 1)\n",
    "valid_test_period = ab_events['event_dt'].between('2020-12-07', '2021-01-01').all()\n",
    "\n",
    "\n",
    "# Data for the table in English\n",
    "data = {\n",
    "    'Condition': ['client_entry_before', 'client_entry_after', 'entry_after_end_date', 'participants', 'EU_users'],\n",
    "    'Observed Quantity': ['2020-12-07', '5263', '2021-01-01', '13638', '98.80%'],\n",
    "    'Result': ['Respected', 'Not Respected', 'Respected', 'Respected', 'Not Respected']\n",
    "}\n",
    "\n",
    "# Create the dataframe\n",
    "summary_table = pd.DataFrame(data)\n",
    "\n",
    "# Display the table\n",
    "display(summary_table)"
   ]
  },
  {
   "cell_type": "markdown",
   "metadata": {},
   "source": [
    "Based on the table of test assumptions and results:\n",
    "\n",
    "* **EU Users Proportion (15%):**\n",
    "\n",
    "The proportion of users from the EU is 98.80%, which is far above the expected 15%. This means the test primarily involved EU users, violating the assumption of targeting a specific portion of users."
   ]
  },
  {
   "cell_type": "markdown",
   "metadata": {},
   "source": [
    "* **Group Balance (50/50):**\n",
    "\n",
    "The groups are unbalanced, with Group A having 169.65% of the expected number of participants and Group B having 130.35%. This indicates that more users than expected were assigned to each group, and the ratio is not 50/50."
   ]
  },
  {
   "cell_type": "code",
   "execution_count": 22,
   "metadata": {},
   "outputs": [
    {
     "data": {
      "image/png": "[encoded data removed]",
      "text/plain": [
       "<Figure size 600x600 with 1 Axes>"
      ]
     },
     "metadata": {},
     "output_type": "display_data"
    }
   ],
   "source": [
    "#Group Balance (Bar Chart)\n",
    "group_a_users = participants[participants['group'] == 'A']['user_id'].nunique()\n",
    "group_b_users = participants[participants['group'] == 'B']['user_id'].nunique()\n",
    "\n",
    "plt.figure(figsize=(6, 6))\n",
    "plt.bar(['Group A', 'Group B'], [group_a_users, group_b_users], color=['lightblue', 'lightgreen'])\n",
    "plt.ylabel('Number of Users')\n",
    "plt.title('Group Balance: Group A vs Group B')\n",
    "plt.show()"
   ]
  },
  {
   "cell_type": "markdown",
   "metadata": {},
   "source": [
    "* **Exclusive Users in Groups:**\n",
    "\n",
    "There are 441 overlapping users who appear in both Group A and Group B, violating the principle of mutually exclusive groups in an A/B test. This could introduce bias in the results."
   ]
  },
  {
   "cell_type": "code",
   "execution_count": 23,
   "metadata": {},
   "outputs": [
    {
     "data": {
      "image/png": "[encoded data removed]",
      "text/plain": [
       "<Figure size 600x600 with 1 Axes>"
      ]
     },
     "metadata": {},
     "output_type": "display_data"
    }
   ],
   "source": [
    "#Overlapping Users (Bar Chart)\n",
    "overlapping_users = participants.groupby('user_id')['group'].nunique().loc[lambda x: x > 1].size\n",
    "exclusive_users_a = group_a_users - overlapping_users\n",
    "exclusive_users_b = group_b_users - overlapping_users\n",
    "\n",
    "plt.figure(figsize=(6, 6))\n",
    "plt.bar(['Exclusive Group A', 'Exclusive Group B', 'Overlapping Users'], \n",
    "        [exclusive_users_a, exclusive_users_b, overlapping_users], color=['lightblue', 'lightgreen', 'coral'])\n",
    "plt.ylabel('Number of Users')\n",
    "plt.title('Exclusive Users vs Overlapping Users')\n",
    "plt.show()"
   ]
  },
  {
   "cell_type": "markdown",
   "metadata": {},
   "source": [
    "* **Expected Sample Size (6000):**\n",
    "\n",
    "The actual sample size is 13,638 users, which is more than double the expected 6,000 users. While a larger sample size can generally improve test power, this deviation suggests that the test did not adhere to the original design."
   ]
  },
  {
   "cell_type": "code",
   "execution_count": 24,
   "metadata": {},
   "outputs": [
    {
     "data": {
      "image/png": "[encoded data removed]",
      "text/plain": [
       "<Figure size 600x600 with 1 Axes>"
      ]
     },
     "metadata": {},
     "output_type": "display_data"
    }
   ],
   "source": [
    "# Sample Size Comparison (Bar Chart)\n",
    "expected_sample_size = 6000\n",
    "actual_sample_size = participants['user_id'].nunique()\n",
    "\n",
    "plt.figure(figsize=(6, 6))\n",
    "plt.bar(['Expected Sample Size', 'Actual Sample Size'], [expected_sample_size, actual_sample_size], color=['gray', 'purple'])\n",
    "plt.ylabel('Number of Users')\n",
    "plt.title('Expected vs Actual Sample Size')\n",
    "plt.show()"
   ]
  },
  {
   "cell_type": "markdown",
   "metadata": {},
   "source": [
    "* **Valid Test Period (Dec 7 - Jan 1):**\n",
    "\n",
    "The test period was respected, meaning the events occurred within the specified timeframe, which supports the validity of the temporal aspect of the test."
   ]
  },
  {
   "cell_type": "markdown",
   "metadata": {},
   "source": [
    "**General Conclusion:**\n",
    "\n",
    "The A/B test faced several critical issues that compromise its reliability. There were 441 overlapping users in both groups, violating exclusivity and introducing bias, while the group distribution was significantly unbalanced, with Group A having 169.65% and Group B 130.35% of the expected users, preventing fair comparison. Additionally, the sample size exceeded the planned 6,000 users, reaching 13,638, and the test heavily overrepresented EU users (98.80%), far beyond the expected 15%. While the test period was respected, fluctuations in user activity during holidays and marketing campaigns likely affected behavior disproportionately across groups. Future tests should ensure exclusive group assignment, balanced proportions, adherence to the planned sample size, proper representation of the target audience, and consideration of external factors like holidays to avoid biases and ensure reliable results."
   ]
  },
  {
   "cell_type": "markdown",
   "metadata": {},
   "source": [
    "## Evaluate the A/B test results"
   ]
  },
  {
   "cell_type": "markdown",
   "metadata": {},
   "source": [
    "To evaluate the A/B test results, we will compare the conversion rates for each stage of the funnel between Group A (control) and Group B (new system), and analyze if the differences observed in conversion rates at each stage of the funnel are significant."
   ]
  },
  {
   "cell_type": "markdown",
   "metadata": {},
   "source": [
    "We'll use the z-test for proportions to check if the differences in conversion rates between the two groups (A and B) are statistically significant.\n",
    "\n",
    "-  The null hypothesis (𝐻0) assumes that there is no difference in conversion rates between the two groups.\n",
    "\n",
    "-  The alternative hypothesis (𝐻1) assumes that there is a difference in conversion rates between the two groups."
   ]
  },
  {
   "cell_type": "code",
   "execution_count": 25,
   "metadata": {},
   "outputs": [],
   "source": [
    "from statsmodels.stats.proportion import proportions_ztest\n",
    "\n",
    "# Total number of users in each group\n",
    "n_a = total_users_a\n",
    "n_b = total_users_b\n",
    "\n",
    "# Number of users who completed each stage in both groups\n",
    "successes_a = [page_view_users_a, cart_view_users_a, purchase_users_a]\n",
    "successes_b = [page_view_users_b, cart_view_users_b, purchase_users_b]\n",
    "\n",
    "# Total number of users (denominator) in each group\n",
    "totals = [n_a, n_b]"
   ]
  },
  {
   "cell_type": "code",
   "execution_count": 26,
   "metadata": {},
   "outputs": [
    {
     "data": {
      "text/plain": [
       "{'Product Page Views': {'z-statistic': 2.355362798445875,\n",
       "  'p-value': 0.018504629130818635},\n",
       " 'Product Cart Views': {'z-statistic': -1.6329798925869519,\n",
       "  'p-value': 0.10247322568368834},\n",
       " 'Purchases': {'z-statistic': 2.125333621538007,\n",
       "  'p-value': 0.03355878472437525}}"
      ]
     },
     "execution_count": 26,
     "metadata": {},
     "output_type": "execute_result"
    }
   ],
   "source": [
    "# Perform z-test for each stage (product_page, product_cart, purchase)\n",
    "ztest_results = {}\n",
    "stages = ['Product Page Views', 'Product Cart Views', 'Purchases']\n",
    "\n",
    "for i, stage in enumerate(stages):\n",
    "    successes = [successes_a[i], successes_b[i]]\n",
    "    z_stat, p_value = proportions_ztest(successes, totals)\n",
    "    ztest_results[stage] = {'z-statistic': z_stat, 'p-value': p_value}\n",
    "\n",
    "# Display the z-test results\n",
    "ztest_results"
   ]
  },
  {
   "cell_type": "markdown",
   "metadata": {},
   "source": [
    "Based on the results of the z-test for proportions:\n",
    "\n",
    "**Product Page Views:**\n",
    "\n",
    "- Z-statistic: 2.36\n",
    "- P-value: 0.0185\n",
    "- Interpretation: Since the p-value is less than 0.05, we reject the null hypothesis. This indicates that there is a statistically significant difference in the product page views between Group A (control) and Group B (new system), favoring Group B.\n",
    "\n",
    "\n",
    "**Product Cart Views:**\n",
    "\n",
    "- Z-statistic: -1.63\n",
    "- P-value: 0.1025\n",
    "- Interpretation: Since the p-value is greater than 0.05, we fail to reject the null hypothesis. This means there is no statistically significant difference in product cart views between the two groups.\n",
    "\n",
    "\n",
    "**Purchases:**\n",
    "\n",
    "- Z-statistic: 2.13\n",
    "- P-value: 0.0336\n",
    "- Interpretation: Since the p-value is less than 0.05, we reject the null hypothesis. This suggests a statistically significant difference in purchase conversions between Group A and Group B, with Group B showing improved conversion."
   ]
  },
  {
   "cell_type": "markdown",
   "metadata": {},
   "source": [
    "## Conclusion on the EDA stage"
   ]
  },
  {
   "cell_type": "markdown",
   "metadata": {},
   "source": [
    "* Distribution of Users and Events:\n",
    "\n",
    "Both groups (A and B) had a similar number of users, but there were 441 users who appeared in both groups, which could bias the test results. This issue should be addressed in future tests to ensure proper randomization. The average number of events per user was comparable between the two groups, with Group A averaging 7.46 events per user and Group B averaging 7.11 events.\n",
    "\n",
    "* Event Activity Over Time:\n",
    "\n",
    "Event activity peaked between December 14 and December 21, which coincides with the period just before new users were no longer accepted into the test. There were significant drops in activity during the holiday season, especially on December 24 and December 30, indicating that external factors like holidays influenced user behavior. This should be taken into account when interpreting the results.\n",
    "\n",
    "* Funnel Conversion Rates:\n",
    "\n",
    "Group A (Control) had slightly higher conversion rates for Product Page Views and Purchases.\n",
    "Group B (New System) showed a better performance in the Product Cart Views stage, though the difference was not statistically significant."
   ]
  },
  {
   "cell_type": "markdown",
   "metadata": {},
   "source": [
    "## Conclusions from the A/B Test Evaluation"
   ]
  },
  {
   "cell_type": "markdown",
   "metadata": {},
   "source": [
    "* Product Page Views:\n",
    "\n",
    "The z-test revealed a statistically significant improvement in product page views for Group B (new system) compared to Group A (control), with a p-value of 0.0185. This indicates that the new recommendation system has had a positive impact on getting users to view more product pages.\n",
    "\n",
    "* Product Cart Views:\n",
    "\n",
    "There was no statistically significant difference in product cart views between the two groups, with a p-value of 0.1025. This suggests that the new recommendation system did not significantly influence the transition from product page views to product cart views.\n",
    "\n",
    "* Purchases:\n",
    "\n",
    "The z-test showed a statistically significant improvement in purchases for Group B (new system), with a p-value of 0.0336. This indicates that the new system successfully increased the number of purchases compared to the control group."
   ]
  },
  {
   "cell_type": "markdown",
   "metadata": {},
   "source": [
    "## Conclusion and Recommendations"
   ]
  },
  {
   "cell_type": "markdown",
   "metadata": {},
   "source": [
    "The new recommendation system proved to be effective in driving increased user engagement and purchases. While it showed a significant positive impact on both product page views and purchases, the effect on product cart views was less pronounced. This suggests that further optimizations could be made to improve the mid-funnel stage (cart views). Additionally, there were users who appeared in both test groups, which could have introduced some bias into the results. This issue should be addressed in future tests to ensure proper group separation.\n",
    "\n",
    "Overall, the test results support the implementation of the new recommendation system, as it has demonstrated clear improvements in key conversion metrics."
   ]
  }
 ],
 "metadata": {
  "ExecuteTimeLog": [
   {
    "duration": 3,
    "start_time": "2024-09-18T17:53:27.057Z"
   },
   {
    "duration": 2582,
    "start_time": "2024-09-18T18:06:49.533Z"
   },
   {
    "duration": 536,
    "start_time": "2024-09-18T18:07:13.295Z"
   },
   {
    "duration": 463,
    "start_time": "2024-09-18T18:07:45.629Z"
   },
   {
    "duration": 301,
    "start_time": "2024-09-18T18:08:40.596Z"
   },
   {
    "duration": 6,
    "start_time": "2024-09-18T18:09:54.773Z"
   },
   {
    "duration": 6,
    "start_time": "2024-09-18T18:11:34.318Z"
   },
   {
    "duration": 6,
    "start_time": "2024-09-18T18:12:36.979Z"
   },
   {
    "duration": 14,
    "start_time": "2024-09-18T18:15:10.502Z"
   },
   {
    "duration": 224,
    "start_time": "2024-09-18T18:16:43.339Z"
   },
   {
    "duration": 218,
    "start_time": "2024-09-18T18:17:25.685Z"
   },
   {
    "duration": 217,
    "start_time": "2024-09-18T18:17:32.421Z"
   },
   {
    "duration": 49,
    "start_time": "2024-09-18T18:18:12.068Z"
   },
   {
    "duration": 18,
    "start_time": "2024-09-18T18:18:16.772Z"
   },
   {
    "duration": 19,
    "start_time": "2024-09-18T18:18:17.377Z"
   },
   {
    "duration": 12,
    "start_time": "2024-09-18T18:18:31.567Z"
   },
   {
    "duration": 13,
    "start_time": "2024-09-18T18:23:30.896Z"
   },
   {
    "duration": 9,
    "start_time": "2024-09-18T18:24:19.243Z"
   },
   {
    "duration": 3,
    "start_time": "2024-09-18T18:28:53.061Z"
   },
   {
    "duration": 15,
    "start_time": "2024-09-18T18:41:41.660Z"
   },
   {
    "duration": 15,
    "start_time": "2024-09-18T18:44:40.292Z"
   },
   {
    "duration": 91,
    "start_time": "2024-09-18T18:44:43.424Z"
   },
   {
    "duration": 22,
    "start_time": "2024-09-18T18:45:06.917Z"
   },
   {
    "duration": 41,
    "start_time": "2024-09-18T18:46:24.429Z"
   },
   {
    "duration": 37,
    "start_time": "2024-09-18T18:50:06.841Z"
   },
   {
    "duration": 74,
    "start_time": "2024-09-18T19:03:52.097Z"
   },
   {
    "duration": 29,
    "start_time": "2024-09-18T19:03:59.816Z"
   },
   {
    "duration": 8,
    "start_time": "2024-09-18T19:04:09.237Z"
   },
   {
    "duration": 27,
    "start_time": "2024-09-18T19:05:01.430Z"
   },
   {
    "duration": 4,
    "start_time": "2024-09-18T19:05:03.132Z"
   },
   {
    "duration": 5,
    "start_time": "2024-09-18T19:05:13.146Z"
   },
   {
    "duration": 44,
    "start_time": "2024-09-18T19:17:01.112Z"
   },
   {
    "duration": 47,
    "start_time": "2024-09-18T20:38:37.736Z"
   },
   {
    "duration": 43,
    "start_time": "2024-09-18T20:38:51.031Z"
   },
   {
    "duration": 24,
    "start_time": "2024-09-18T20:49:01.717Z"
   },
   {
    "duration": 17,
    "start_time": "2024-09-18T20:49:05.799Z"
   },
   {
    "duration": 21,
    "start_time": "2024-09-18T20:49:31.382Z"
   },
   {
    "duration": 9,
    "start_time": "2024-09-18T20:49:33.807Z"
   },
   {
    "duration": 22,
    "start_time": "2024-09-18T20:49:56.113Z"
   },
   {
    "duration": 3,
    "start_time": "2024-09-18T20:49:58.847Z"
   },
   {
    "duration": 5,
    "start_time": "2024-09-18T20:50:09.639Z"
   },
   {
    "duration": 14,
    "start_time": "2024-09-18T20:59:42.522Z"
   },
   {
    "duration": 9,
    "start_time": "2024-09-18T20:59:49.045Z"
   },
   {
    "duration": 9,
    "start_time": "2024-09-18T21:00:01.884Z"
   },
   {
    "duration": 5,
    "start_time": "2024-09-18T21:00:13.071Z"
   },
   {
    "duration": 4,
    "start_time": "2024-09-18T21:00:27.342Z"
   },
   {
    "duration": 2519,
    "start_time": "2024-09-19T18:13:06.015Z"
   },
   {
    "duration": 466,
    "start_time": "2024-09-19T18:13:08.536Z"
   },
   {
    "duration": 18,
    "start_time": "2024-09-19T18:13:09.004Z"
   },
   {
    "duration": 100,
    "start_time": "2024-09-19T18:13:09.024Z"
   },
   {
    "duration": 35,
    "start_time": "2024-09-19T18:13:09.127Z"
   },
   {
    "duration": 12,
    "start_time": "2024-09-19T18:13:09.163Z"
   },
   {
    "duration": 172,
    "start_time": "2024-09-19T18:13:09.177Z"
   },
   {
    "duration": 8,
    "start_time": "2024-09-19T18:13:09.351Z"
   },
   {
    "duration": 37,
    "start_time": "2024-09-19T18:13:09.360Z"
   },
   {
    "duration": 84,
    "start_time": "2024-09-19T18:13:09.398Z"
   },
   {
    "duration": 24,
    "start_time": "2024-09-19T18:13:09.484Z"
   },
   {
    "duration": 9,
    "start_time": "2024-09-19T18:13:09.510Z"
   },
   {
    "duration": 37,
    "start_time": "2024-09-19T18:13:09.521Z"
   },
   {
    "duration": 3,
    "start_time": "2024-09-19T18:13:09.562Z"
   },
   {
    "duration": 5,
    "start_time": "2024-09-19T18:13:09.567Z"
   },
   {
    "duration": 42,
    "start_time": "2024-09-19T18:13:09.573Z"
   },
   {
    "duration": 67,
    "start_time": "2024-09-19T18:13:09.616Z"
   },
   {
    "duration": 19,
    "start_time": "2024-09-19T18:13:09.684Z"
   },
   {
    "duration": 20,
    "start_time": "2024-09-19T18:13:09.704Z"
   },
   {
    "duration": 8,
    "start_time": "2024-09-19T18:13:09.742Z"
   },
   {
    "duration": 22,
    "start_time": "2024-09-19T18:13:09.751Z"
   },
   {
    "duration": 3,
    "start_time": "2024-09-19T18:13:09.775Z"
   },
   {
    "duration": 4,
    "start_time": "2024-09-19T18:13:09.780Z"
   },
   {
    "duration": 12,
    "start_time": "2024-09-19T18:13:09.786Z"
   },
   {
    "duration": 9,
    "start_time": "2024-09-19T18:13:09.799Z"
   },
   {
    "duration": 40,
    "start_time": "2024-09-19T18:13:09.809Z"
   },
   {
    "duration": 5,
    "start_time": "2024-09-19T18:13:09.851Z"
   },
   {
    "duration": 6,
    "start_time": "2024-09-19T18:13:09.857Z"
   },
   {
    "duration": 7,
    "start_time": "2024-09-19T18:22:37.156Z"
   },
   {
    "duration": 8,
    "start_time": "2024-09-19T18:23:54.497Z"
   },
   {
    "duration": 4,
    "start_time": "2024-09-19T18:24:04.990Z"
   },
   {
    "duration": 3,
    "start_time": "2024-09-19T18:24:12.888Z"
   },
   {
    "duration": 3,
    "start_time": "2024-09-19T18:39:44.040Z"
   },
   {
    "duration": 4,
    "start_time": "2024-09-19T18:40:17.272Z"
   },
   {
    "duration": 5,
    "start_time": "2024-09-19T18:40:23.488Z"
   },
   {
    "duration": 5,
    "start_time": "2024-09-19T18:40:27.255Z"
   },
   {
    "duration": 6,
    "start_time": "2024-09-19T18:40:42.723Z"
   },
   {
    "duration": 5,
    "start_time": "2024-09-19T18:40:47.060Z"
   },
   {
    "duration": 4,
    "start_time": "2024-09-19T18:40:51.561Z"
   },
   {
    "duration": 5,
    "start_time": "2024-09-19T18:41:03.852Z"
   },
   {
    "duration": 3,
    "start_time": "2024-09-19T19:10:48.299Z"
   },
   {
    "duration": 160,
    "start_time": "2024-09-21T10:59:50.799Z"
   },
   {
    "duration": 2521,
    "start_time": "2024-09-21T11:00:02.182Z"
   },
   {
    "duration": 470,
    "start_time": "2024-09-21T11:00:04.705Z"
   },
   {
    "duration": 18,
    "start_time": "2024-09-21T11:00:05.177Z"
   },
   {
    "duration": 104,
    "start_time": "2024-09-21T11:00:05.198Z"
   },
   {
    "duration": 31,
    "start_time": "2024-09-21T11:00:05.304Z"
   },
   {
    "duration": 12,
    "start_time": "2024-09-21T11:00:05.338Z"
   },
   {
    "duration": 190,
    "start_time": "2024-09-21T11:00:05.352Z"
   },
   {
    "duration": 7,
    "start_time": "2024-09-21T11:00:05.544Z"
   },
   {
    "duration": 36,
    "start_time": "2024-09-21T11:00:05.553Z"
   },
   {
    "duration": 85,
    "start_time": "2024-09-21T11:00:05.593Z"
   },
   {
    "duration": 23,
    "start_time": "2024-09-21T11:00:05.679Z"
   },
   {
    "duration": 7,
    "start_time": "2024-09-21T11:00:05.704Z"
   },
   {
    "duration": 38,
    "start_time": "2024-09-21T11:00:05.713Z"
   },
   {
    "duration": 3,
    "start_time": "2024-09-21T11:00:05.753Z"
   },
   {
    "duration": 5,
    "start_time": "2024-09-21T11:00:05.758Z"
   },
   {
    "duration": 68,
    "start_time": "2024-09-21T11:00:05.764Z"
   },
   {
    "duration": 44,
    "start_time": "2024-09-21T11:00:05.834Z"
   },
   {
    "duration": 362,
    "start_time": "2024-09-21T11:00:05.880Z"
   },
   {
    "duration": 7,
    "start_time": "2024-09-21T11:00:06.244Z"
   },
   {
    "duration": 5,
    "start_time": "2024-09-21T11:00:06.253Z"
   },
   {
    "duration": 433,
    "start_time": "2024-09-21T11:02:50.792Z"
   },
   {
    "duration": 448,
    "start_time": "2024-09-21T11:04:10.188Z"
   },
   {
    "duration": 498,
    "start_time": "2024-09-21T11:04:31.730Z"
   },
   {
    "duration": 410,
    "start_time": "2024-09-21T11:04:50.644Z"
   },
   {
    "duration": 422,
    "start_time": "2024-09-21T11:05:15.908Z"
   },
   {
    "duration": 410,
    "start_time": "2024-09-21T11:05:23.338Z"
   },
   {
    "duration": 283,
    "start_time": "2024-09-21T11:09:21.957Z"
   },
   {
    "duration": 366,
    "start_time": "2024-09-21T11:10:51.901Z"
   },
   {
    "duration": 341,
    "start_time": "2024-09-21T11:10:56.831Z"
   },
   {
    "duration": 352,
    "start_time": "2024-09-21T11:12:32.253Z"
   },
   {
    "duration": 339,
    "start_time": "2024-09-21T11:12:41.597Z"
   },
   {
    "duration": 365,
    "start_time": "2024-09-21T11:12:48.366Z"
   },
   {
    "duration": 240,
    "start_time": "2024-09-21T11:21:55.366Z"
   },
   {
    "duration": 234,
    "start_time": "2024-09-21T11:25:10.056Z"
   },
   {
    "duration": 426,
    "start_time": "2024-09-21T11:34:24.882Z"
   },
   {
    "duration": 139,
    "start_time": "2024-09-21T11:38:58.149Z"
   },
   {
    "duration": 20,
    "start_time": "2024-09-21T11:39:35.385Z"
   },
   {
    "duration": 25,
    "start_time": "2024-09-21T13:05:51.681Z"
   },
   {
    "duration": 114,
    "start_time": "2024-09-21T13:05:59.230Z"
   },
   {
    "duration": 92,
    "start_time": "2024-09-21T13:18:30.868Z"
   },
   {
    "duration": 104,
    "start_time": "2024-09-21T13:19:18.209Z"
   },
   {
    "duration": 91,
    "start_time": "2024-09-21T13:20:21.213Z"
   },
   {
    "duration": 193,
    "start_time": "2024-09-21T13:26:10.041Z"
   },
   {
    "duration": 125,
    "start_time": "2024-09-21T13:27:10.132Z"
   },
   {
    "duration": 119,
    "start_time": "2024-09-21T13:27:16.890Z"
   },
   {
    "duration": 122,
    "start_time": "2024-09-21T13:27:25.764Z"
   },
   {
    "duration": 113,
    "start_time": "2024-09-21T13:27:35.942Z"
   },
   {
    "duration": 116,
    "start_time": "2024-09-21T13:27:56.389Z"
   },
   {
    "duration": 120,
    "start_time": "2024-09-21T13:33:12.374Z"
   },
   {
    "duration": 117,
    "start_time": "2024-09-21T13:33:47.864Z"
   },
   {
    "duration": 818,
    "start_time": "2024-09-21T13:34:20.109Z"
   },
   {
    "duration": 344,
    "start_time": "2024-09-21T13:34:20.931Z"
   },
   {
    "duration": 17,
    "start_time": "2024-09-21T13:34:21.276Z"
   },
   {
    "duration": 105,
    "start_time": "2024-09-21T13:34:21.295Z"
   },
   {
    "duration": 34,
    "start_time": "2024-09-21T13:34:21.402Z"
   },
   {
    "duration": 12,
    "start_time": "2024-09-21T13:34:21.437Z"
   },
   {
    "duration": 174,
    "start_time": "2024-09-21T13:34:21.451Z"
   },
   {
    "duration": 7,
    "start_time": "2024-09-21T13:34:21.630Z"
   },
   {
    "duration": 35,
    "start_time": "2024-09-21T13:34:21.639Z"
   },
   {
    "duration": 82,
    "start_time": "2024-09-21T13:34:21.678Z"
   },
   {
    "duration": 23,
    "start_time": "2024-09-21T13:34:21.761Z"
   },
   {
    "duration": 8,
    "start_time": "2024-09-21T13:34:21.786Z"
   },
   {
    "duration": 42,
    "start_time": "2024-09-21T13:34:21.796Z"
   },
   {
    "duration": 3,
    "start_time": "2024-09-21T13:34:21.839Z"
   },
   {
    "duration": 4,
    "start_time": "2024-09-21T13:34:21.844Z"
   },
   {
    "duration": 44,
    "start_time": "2024-09-21T13:34:21.850Z"
   },
   {
    "duration": 66,
    "start_time": "2024-09-21T13:34:21.896Z"
   },
   {
    "duration": 473,
    "start_time": "2024-09-21T13:34:21.964Z"
   },
   {
    "duration": 379,
    "start_time": "2024-09-21T13:34:22.439Z"
   },
   {
    "duration": 286,
    "start_time": "2024-09-21T13:34:22.821Z"
   },
   {
    "duration": 137,
    "start_time": "2024-09-21T13:34:23.109Z"
   },
   {
    "duration": 103,
    "start_time": "2024-09-21T13:34:23.248Z"
   },
   {
    "duration": 110,
    "start_time": "2024-09-21T13:34:23.353Z"
   },
   {
    "duration": 97,
    "start_time": "2024-09-21T13:34:23.465Z"
   },
   {
    "duration": 7,
    "start_time": "2024-09-21T13:34:23.564Z"
   },
   {
    "duration": 7,
    "start_time": "2024-09-21T13:34:23.572Z"
   }
  ],
  "kernelspec": {
   "display_name": "Python 3 (ipykernel)",
   "language": "python",
   "name": "python3"
  },
  "language_info": {
   "codemirror_mode": {
    "name": "ipython",
    "version": 3
   },
   "file_extension": ".py",
   "mimetype": "text/x-python",
   "name": "python",
   "nbconvert_exporter": "python",
   "pygments_lexer": "ipython3",
   "version": "3.9.19"
  },
  "toc": {
   "base_numbering": 1,
   "nav_menu": {},
   "number_sections": true,
   "sideBar": true,
   "skip_h1_title": true,
   "title_cell": "Table of Contents",
   "title_sidebar": "Contents",
   "toc_cell": false,
   "toc_position": {},
   "toc_section_display": true,
   "toc_window_display": false
  }
 },
 "nbformat": 4,
 "nbformat_minor": 2
}
